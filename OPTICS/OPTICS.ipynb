{
 "cells": [
  {
   "cell_type": "markdown",
   "metadata": {},
   "source": [
    "## Reference(Ordering points to identify the clustering structure)\n",
    "- https://zhuanlan.zhihu.com/p/77052675\n",
    "- 比较清晰的介绍： https://zhuanlan.zhihu.com/p/563066804"
   ]
  },
  {
   "cell_type": "code",
   "execution_count": null,
   "metadata": {},
   "outputs": [],
   "source": []
  }
 ],
 "metadata": {
  "language_info": {
   "name": "python"
  },
  "orig_nbformat": 4
 },
 "nbformat": 4,
 "nbformat_minor": 2
}
