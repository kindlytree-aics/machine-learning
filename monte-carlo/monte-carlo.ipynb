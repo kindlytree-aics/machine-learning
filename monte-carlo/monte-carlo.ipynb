{
 "cells": [
  {
   "cell_type": "markdown",
   "metadata": {},
   "source": [
    "随机抽样或统计试验方法，属于计算数学的一个分支，当所要求解的问题是某种事件出现的概率，或者是某个随机变量的期望值时，它们可以通过某种“试验”的方法，得到这种事件出现的频率，或者这个随机变数的平均值，并用它们作为问题的解。这就是蒙特卡罗方法的基本思想。\n",
    "蒙特卡罗解方法或模拟归结为三个主要步骤\n",
    "- 构造或描述概率过程；\n",
    "- 实现从已知概率分布抽样；\n",
    "- 建立各种估计量。\n",
    "\n",
    "References：\n",
    "    - https://baijiahao.baidu.com/s?id=1678438546713381562&wfr=spider&for=pc 赌博问题模拟\n",
    "    - https://blog.csdn.net/Hearthougan/article/details/82143445 \n",
    "    -为什么样本方差的分母是n-1？为什么它又叫做无偏估计？ \n",
    "    https://blog.csdn.net/qq_39521554/article/details/79633207\n",
    "    - https://zhuanlan.zhihu.com/p/223042372"
   ]
  },
  {
   "cell_type": "code",
   "execution_count": 1,
   "metadata": {},
   "outputs": [
    {
     "name": "stdout",
     "output_type": "stream",
     "text": [
      "Pi =  3.1452\n"
     ]
    }
   ],
   "source": [
    "import random\n",
    "import math\n",
    " \n",
    "icount = 0\n",
    "iter_num = 10000\n",
    "for i in range(iter_num):\n",
    "    x = random.random()\n",
    "    y = random.random()\n",
    " \n",
    "    if math.sqrt(x**2 + y**2) <= 1:\n",
    "        icount += 1\n",
    "print('Pi = ', float(4*icount)/float(iter_num))"
   ]
  },
  {
   "cell_type": "code",
   "execution_count": 11,
   "metadata": {},
   "outputs": [
    {
     "name": "stdout",
     "output_type": "stream",
     "text": [
      "11.670062\n",
      "14.707303\n",
      "14.898722\n"
     ]
    }
   ],
   "source": [
    "import random\n",
    "import numpy as np\n",
    "\n",
    "S = 110\n",
    "K = 100\n",
    "T = 1\n",
    "r = 0.05\n",
    "sigma = 0.2\n",
    "N = [100, 10000, 1000000]\n",
    "for n in N:\n",
    "    result = np.zeros([n], dtype=np.float32)\n",
    "    for i in range(n):\n",
    "        X = np.random.randn()\n",
    "        #X = np.random.standard_normal()\n",
    "        S1= S*np.power(np.e,(r-0.5*sigma**2)*T+sigma*np.sqrt(T)*X)\n",
    "        result[i] = np.power(np.e, -1*r*T)*np.max(S1-K,0)\n",
    "    #print(result)\n",
    "    print(np.average(result))"
   ]
  }
 ],
 "metadata": {
  "kernelspec": {
   "display_name": "Python 3.9.12 ('base')",
   "language": "python",
   "name": "python3"
  },
  "language_info": {
   "codemirror_mode": {
    "name": "ipython",
    "version": 3
   },
   "file_extension": ".py",
   "mimetype": "text/x-python",
   "name": "python",
   "nbconvert_exporter": "python",
   "pygments_lexer": "ipython3",
   "version": "3.9.12"
  },
  "orig_nbformat": 4,
  "vscode": {
   "interpreter": {
    "hash": "ad2bdc8ecc057115af97d19610ffacc2b4e99fae6737bb82f5d7fb13d2f2c186"
   }
  }
 },
 "nbformat": 4,
 "nbformat_minor": 2
}
