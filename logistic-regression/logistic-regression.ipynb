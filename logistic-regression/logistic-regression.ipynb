{
 "cells": [
  {
   "cell_type": "markdown",
   "id": "13b01c97",
   "metadata": {
    "papermill": {
     "duration": 0.004204,
     "end_time": "2022-08-26T08:17:40.548013",
     "exception": false,
     "start_time": "2022-08-26T08:17:40.543809",
     "status": "completed"
    },
    "tags": []
   },
   "source": [
    "和回归问题类似，分类问题不同的地方是预测的值仅限于少量的几个离散的值。我们首先关注二值分类问题，这时预测的值仅限于0和1。比如，我们可以建立一个垃圾邮件分类器，此时$x^{(i)}$是一封邮件的某些特征，y为1表示其为垃圾邮件，否则表示不是垃圾邮件。0也被称为负类，1称为正类。$y^{(i)}$ 也被称为样本i的标记（label）。\n",
    "\n",
    "## Logistic函数\n",
    "如果我们忽略二分类问题中y的取值是一个离散的取值（0或1），我们继续使用线性回归来预测y的取值。这样做会导致y的取值并不为0或1。逻辑回归使用一个函数来归一化y值，使y的取值在区间(0,1)内，\n",
    "\n",
    "$$\n",
    "h(\\theta)=g(\\theta^Tx)=\\frac{1}{1+e^{-\\theta x}}\n",
    "$$\n",
    "这个函数称为Logistic函数(logistic function)，也称为Sigmoid函数(sigmoid function)。函数公式如下：\n",
    "$$\n",
    "g(z) = \\frac{1}{1+e^{-z}}\n",
    "$$"
   ]
  },
  {
   "cell_type": "code",
   "execution_count": 1,
   "id": "894b744e",
   "metadata": {
    "execution": {
     "iopub.execute_input": "2022-08-26T08:17:40.558074Z",
     "iopub.status.busy": "2022-08-26T08:17:40.556730Z",
     "iopub.status.idle": "2022-08-26T08:17:40.826199Z",
     "shell.execute_reply": "2022-08-26T08:17:40.824880Z"
    },
    "papermill": {
     "duration": 0.278738,
     "end_time": "2022-08-26T08:17:40.830199",
     "exception": false,
     "start_time": "2022-08-26T08:17:40.551461",
     "status": "completed"
    },
    "tags": []
   },
   "outputs": [
    {
     "data": {
      "image/png": "[encoded data removed]",
      "text/plain": [
       "<Figure size 432x288 with 1 Axes>"
      ]
     },
     "metadata": {
      "needs_background": "light"
     },
     "output_type": "display_data"
    }
   ],
   "source": [
    "from pylab import *\n",
    "import random\n",
    "import matplotlib  as mpl\n",
    "import matplotlib.pyplot as plt\n",
    "import numpy as np\n",
    " \n",
    "#myfont = matplotlib.font_manager.FontProperties(fname=r\"simkai.ttf\")  #fname指定字体文件  选简体显示中文\n",
    "#第七行的作用是为了消除更换为unicode字体之后0、负数之类的显示异常。之后所有使用中文字体的地方只字符串都以u\"\"的形式出现，并指定fontproperties属性为我们的指定的myfont就行了\n",
    "mpl.rcParams['axes.unicode_minus'] = False\n",
    "#mpl.rcParams['font.sans-serif'] = ['SimHei']\n",
    "t = np.arange(-5, 5, 0.001)\n",
    "y = 1/(1 + np.power(e, -t))\n",
    "plt.plot(t, y)\n",
    "plt.title('sigmoid function')\n",
    "plt.xlabel(u'z')\n",
    "plt.ylabel(u'g(z)')\n",
    " \n",
    "plt.show()"
   ]
  },
  {
   "cell_type": "markdown",
   "id": "55be490e",
   "metadata": {
    "papermill": {
     "duration": 0.002808,
     "end_time": "2022-08-26T08:17:40.836431",
     "exception": false,
     "start_time": "2022-08-26T08:17:40.833623",
     "status": "completed"
    },
    "tags": []
   },
   "source": [
    "Notice that g(z) tends towards 1 as z → ∞, and g(z) tends towards 0 as\n",
    "z → −∞. Moreover, g(z), and hence also h(x), is always bounded between\n",
    "0 and 1. As before, we are keeping the convention of letting x0 = 1, so that\n",
    "\n",
    "$\\theta^Tx=\\theta _0 +\\sum_{j=1}^d θ_jx_j$\n",
    "\n",
    "For now, let’s take the choice of g as given. Other functions that smoothly\n",
    "increase from 0 to 1 can also be used, but for a couple of reasons that we’ll see\n",
    "later (when we talk about GLMs, and when we talk about generative learning\n",
    "algorithms), the choice of the logistic function is a fairly natural one. Before\n",
    "moving on, here’s a useful property of the derivative of the sigmoid function,\n",
    "which we write as g′:\n",
    "\n",
    "$g'(z)=\\frac{d}{dz}(\\frac{1}{1+e^{-z}})= \\frac{1}{(1+e^{-z})^2}e^{-z}= \\frac{1}{1+e^{-z}}(1-\\frac{1}{1+e^{-z}})= g(z)(1-g(z)$\n",
    "\n",
    "Assuming that the n training examples were generated independently, we\n",
    "can then write down the likelihood of the parameters as\n",
    "\n",
    "\n",
    "$p(y=1|x;\\theta)=h_\\theta(x)$\n",
    "\n",
    "\n",
    "$p(y=0|x;\\theta)=1-h_\\theta(x)$\n",
    "\n",
    "\n",
    "\n",
    "$p(y|x;\\theta)=h_\\theta(x)^y(1-h_\\theta(x))^{(1-y)}$\n",
    "\n",
    "\n",
    "$p(\\vec y|X;\\theta )=\\prod p(y|x;\\theta)=\\prod h_\\theta(x)^y(1-h_\\theta(x))^{(1-y)}$\n",
    "\n",
    "As before, it will be easier to maximize the log likelihood:\n",
    "\n",
    "$l(\\theta)=logL(\\theta)=\\sum_{i=1}^{m}y^{(i)}logh_\\theta(x^{(i)})+(1-y^{(i)})log(1-h_\\theta(x^{(i)}))$\n",
    "\n",
    "$\\theta=\\theta+\\alpha\\bigtriangledown _\\theta l(\\theta)$\n",
    "\n",
    "$\\frac{\\partial }{\\partial \\theta_j}l(\\theta)=\\sum_{i=1}^{m}(y^{(i)}-h_\\theta(x^{(i)}))x_j^{(i)}$\n",
    "\n",
    "$\\frac{\\partial }{\\partial \\theta_j}l(\\theta)= (y \\frac {1} {g( \\theta ^T x)} -(1-y) \\frac {1}{1-g(\\theta ^Tx)})\\frac {\\partial} {\\partial \\theta_j}g(\\theta ^T x)$\n",
    "\n",
    "$= (y \\frac {1} {g( \\theta ^T x)} -(1-y) \\frac {1}{1-g(\\theta ^Tx)})g(\\theta ^T x)(1-g(\\theta ^Tx))\\frac {\\partial}{\\partial \\theta_j} \\theta ^Tx$\n",
    "\n",
    "$= (y(1-g(\\theta ^Tx))-(1-y)g(\\theta ^T x))x_j$\n",
    "\n",
    "$= (y-h_\\theta(x))x_j$\n"
   ]
  },
  {
   "cell_type": "code",
   "execution_count": 2,
   "id": "fb6e384e",
   "metadata": {
    "execution": {
     "iopub.execute_input": "2022-08-26T08:17:40.845454Z",
     "iopub.status.busy": "2022-08-26T08:17:40.844177Z",
     "iopub.status.idle": "2022-08-26T08:17:42.492549Z",
     "shell.execute_reply": "2022-08-26T08:17:42.491041Z"
    },
    "papermill": {
     "duration": 1.655998,
     "end_time": "2022-08-26T08:17:42.495498",
     "exception": false,
     "start_time": "2022-08-26T08:17:40.839500",
     "status": "completed"
    },
    "tags": []
   },
   "outputs": [
    {
     "data": {
      "image/png": "[encoded data removed]",
      "text/plain": [
       "<Figure size 432x288 with 1 Axes>"
      ]
     },
     "metadata": {
      "needs_background": "light"
     },
     "output_type": "display_data"
    }
   ],
   "source": [
    "# original method, use numpy to implement\n",
    "%matplotlib inline\n",
    "from sklearn.datasets import make_blobs\n",
    "from sklearn.model_selection import train_test_split\n",
    "import matplotlib.pyplot as plt\n",
    "import numpy as np\n",
    "from math import exp, log\n",
    "import copy\n",
    "\n",
    "## Hyper-paramters definition\n",
    "LR = 0.05\n",
    "EPOCH = 5\n",
    "# numpy.random.normal(loc=0.0, scale=1.0, size=None)  \n",
    "# loc:float 概率分布的均值，对应着整个分布的中心center\n",
    "# scale:float概率分布的标准差，对应于分布的宽度，scale越大越矮胖，scale越小，越瘦高\n",
    "# size:int or tuple of ints\n",
    "# 我们更经常会用到np.random.randn(size)所谓标准正太分布（μ=0, σ=1），对应于np.random.normal(loc=0, scale=1, size)\n",
    "THETA = np.random.normal(0, 0.1, 3).reshape(3, 1) # learnable parameters\n",
    "# https://www.jianshu.com/p/069d8841bd8e make_blobs函数是为聚类产生数据集\n",
    "X, Y = make_blobs(n_samples=300, centers=2, n_features=2, random_state=3)\n",
    "# plt.scatter(X[:, 0], X[:, 1], c=Y)\n",
    "# plt.show()\n",
    "X_train, X_test, Y_train, Y_test = train_test_split(X, Y, test_size=0.3, random_state=0)\n",
    "plt.scatter(X_train[:,0], X_train[:, 1], c=Y_train, edgecolors='white', marker='s')\n",
    "plt.show()\n",
    "\n",
    "X0_train = np.ones([X_train.shape[0],1],dtype=X_train.dtype)\n",
    "X0_test = np.ones([X_test.shape[0],1], dtype=X_test.dtype)\n",
    "X_train_original = copy.deepcopy(X_train)\n",
    "X_train = np.concatenate((X0_train,X_train), axis=1)\n",
    "X_test = np.concatenate((X0_test, X_test), axis=1)"
   ]
  },
  {
   "cell_type": "code",
   "execution_count": 3,
   "id": "15201888",
   "metadata": {
    "execution": {
     "iopub.execute_input": "2022-08-26T08:17:42.504815Z",
     "iopub.status.busy": "2022-08-26T08:17:42.504350Z",
     "iopub.status.idle": "2022-08-26T08:17:42.768377Z",
     "shell.execute_reply": "2022-08-26T08:17:42.766307Z"
    },
    "papermill": {
     "duration": 0.272425,
     "end_time": "2022-08-26T08:17:42.771556",
     "exception": false,
     "start_time": "2022-08-26T08:17:42.499131",
     "status": "completed"
    },
    "tags": []
   },
   "outputs": [
    {
     "name": "stdout",
     "output_type": "stream",
     "text": [
      "THETA [[-0.02775545]\n",
      " [-1.56463257]\n",
      " [-1.06672489]]\n"
     ]
    },
    {
     "data": {
      "image/png": "[encoded data removed]",
      "text/plain": [
       "<Figure size 432x288 with 1 Axes>"
      ]
     },
     "metadata": {
      "needs_background": "light"
     },
     "output_type": "display_data"
    }
   ],
   "source": [
    "def linear_h(theta, x):\n",
    "    #print(x)\n",
    "    h_x = np.matmul(theta.T,x.T)\n",
    "    return h_x\n",
    "\n",
    "def sigmoid(x):\n",
    "    h_x = linear_h(THETA,x)\n",
    "    g = 1/(1 + exp(-h_x))\n",
    "    return g\n",
    "\n",
    "def loss_function(sample):\n",
    "    x,y = sample[0], sample[1]\n",
    "    p = sigmoid(x)\n",
    "    loss = -y*log(p)-(1-y)*log(1-p)\n",
    "    return loss\n",
    "\n",
    "def gradient(sample):\n",
    "    x,y = sample[0], sample[1]\n",
    "    h = sigmoid(x)\n",
    "    return (h-y)*x\n",
    "\n",
    "def update_parameters(theta, gradient, lr):\n",
    "    theta = theta-lr*gradient\n",
    "    return theta\n",
    "\n",
    "for ep in range(EPOCH):\n",
    "    for index in range(X_train.shape[0]//2):\n",
    "        batch_X = X_train[index*2:(index+1)*2,:] # 2*2 matrix\n",
    "        batch_Y = Y_train[index*2:(index+1)*2]# 2*1 matrix\n",
    "        #print(batch_X)\n",
    "        h_X = [sigmoid(x) for x in batch_X]\n",
    "        loss = [ loss_function((x,y)) for (x,y) in zip(batch_X, batch_Y)]\n",
    "        g = [gradient((x,y)) for (x,y) in zip(batch_X, batch_Y)]\n",
    "        g = np.array(g).mean(axis=0)\n",
    "#         print(g)\n",
    "        g = g.reshape([3,1])\n",
    "        THETA = update_parameters(THETA, g, LR)\n",
    "#         print(\"[{0}/{1}, Stpes:{2}, loss: {3}, Weight: {4}, Bias:{5}]\".format( \\\n",
    "#                   ep+1, EPOCH, index+1, loss[0],THETA[1,0],THETA[0,0]))\n",
    "\n",
    "i = 0\n",
    "print('THETA', THETA)\n",
    "H_test = np.zeros([Y_test.shape[0], 1], dtype=Y_test.dtype)\n",
    "for x, y in zip(X_test, Y_test):\n",
    "    H_test[i,0] = np.around(sigmoid(x))\n",
    "    i+=1\n",
    "plt.figure(1)\n",
    "x = np.linspace(-7, 4, 50)\n",
    "plt.scatter(X_test[:, 1], X_test[:, 2], c=H_test[:, 0], edgecolors='white', marker='s')\n",
    "plt.show()"
   ]
  },
  {
   "cell_type": "code",
   "execution_count": 4,
   "id": "9afb8966",
   "metadata": {
    "execution": {
     "iopub.execute_input": "2022-08-26T08:17:42.783530Z",
     "iopub.status.busy": "2022-08-26T08:17:42.781886Z",
     "iopub.status.idle": "2022-08-26T08:17:44.981259Z",
     "shell.execute_reply": "2022-08-26T08:17:44.979863Z"
    },
    "papermill": {
     "duration": 2.208485,
     "end_time": "2022-08-26T08:17:44.984135",
     "exception": false,
     "start_time": "2022-08-26T08:17:42.775650",
     "status": "completed"
    },
    "tags": []
   },
   "outputs": [
    {
     "ename": "ModuleNotFoundError",
     "evalue": "No module named 'torch'",
     "output_type": "error",
     "traceback": [
      "\u001b[1;31m---------------------------------------------------------------------------\u001b[0m",
      "\u001b[1;31mModuleNotFoundError\u001b[0m                       Traceback (most recent call last)",
      "\u001b[1;32md:\\work\\code\\kindlytree_aics\\machine-learning\\logistic-regression\\logistic-regression.ipynb Cell 6\u001b[0m in \u001b[0;36m<cell line: 1>\u001b[1;34m()\u001b[0m\n\u001b[1;32m----> <a href='vscode-notebook-cell:/d%3A/work/code/kindlytree_aics/machine-learning/logistic-regression/logistic-regression.ipynb#W5sZmlsZQ%3D%3D?line=0'>1</a>\u001b[0m \u001b[39mimport\u001b[39;00m \u001b[39mtorch\u001b[39;00m\n\u001b[0;32m      <a href='vscode-notebook-cell:/d%3A/work/code/kindlytree_aics/machine-learning/logistic-regression/logistic-regression.ipynb#W5sZmlsZQ%3D%3D?line=1'>2</a>\u001b[0m \u001b[39mimport\u001b[39;00m \u001b[39mtorch\u001b[39;00m\u001b[39m.\u001b[39;00m\u001b[39mnn\u001b[39;00m \u001b[39mas\u001b[39;00m \u001b[39mnn\u001b[39;00m\n\u001b[0;32m      <a href='vscode-notebook-cell:/d%3A/work/code/kindlytree_aics/machine-learning/logistic-regression/logistic-regression.ipynb#W5sZmlsZQ%3D%3D?line=3'>4</a>\u001b[0m \u001b[39mclass\u001b[39;00m \u001b[39mLogisticRegression\u001b[39;00m(nn\u001b[39m.\u001b[39mModule):\n",
      "\u001b[1;31mModuleNotFoundError\u001b[0m: No module named 'torch'"
     ]
    }
   ],
   "source": [
    "import torch\n",
    "import torch.nn as nn\n",
    "\n",
    "class LogisticRegression(nn.Module):\n",
    "    def __init__(self, input_size, output_size):\n",
    "        super(LogisticRegression,self).__init__()\n",
    "        self.linear = nn.Linear(input_size, output_size)\n",
    "        self.sigmoid = nn.Sigmoid()\n",
    "        \n",
    "    def forward(self, x):\n",
    "        out = self.linear(x)\n",
    "        out = self.sigmoid(out)\n",
    "        return out\n",
    "\n",
    "model = LogisticRegression(2,1)\n",
    "model = model.double()\n",
    "# BCELoss与CrossEntropyLoss都是用于分类问题。可以知道，BCELoss是\n",
    "# Binary CrossEntropyLoss的缩写，BCELoss是CrossEntropyLoss的一个特例，\n",
    "# 只用于二分类问题，而CrossEntropyLoss可以用于二分类，也可以用于多分类。\n",
    "criterion = nn.BCELoss()\n",
    "optimizer = torch.optim.SGD(model.parameters(), lr=0.02)\n",
    "num_epoches = 3\n",
    "for epoch in range(num_epoches):\n",
    "    for index in range(X_train_original.shape[0]//2):\n",
    "        batch_X = X_train_original[index*2:(index+1)*2,:]\n",
    "        batch_Y = Y_train[index*2:(index+1)*2].reshape([2,1])\n",
    "        inputs = torch.from_numpy(batch_X)\n",
    "        targets = torch.from_numpy(batch_Y).double()\n",
    "        optimizer.zero_grad()\n",
    "        outputs = model(inputs)\n",
    "        loss = criterion(outputs,targets)\n",
    "        loss.backward()\n",
    "        optimizer.step()\n",
    "    if (epoch+1) % 5 == 0:\n",
    "      print ('Epoch [%d/%d], Loss: %.4f' \n",
    "           %(epoch+1, num_epochs, loss.data[0]))\n",
    "\n",
    "i=0\n",
    "H_test = np.zeros([Y_test.shape[0], 1], dtype=Y_test.dtype)\n",
    "for x, y in zip(X_test, Y_test):\n",
    "    H_test[i,0] = np.around(sigmoid(x))\n",
    "    i+=1\n",
    "plt.figure(1)\n",
    "x = np.linspace(-7, 4, 50)\n",
    "plt.scatter(X_test[:, 1], X_test[:, 2], c=H_test[:, 0], edgecolors='white', marker='s')\n",
    "plt.show()\n"
   ]
  }
 ],
 "metadata": {
  "kernelspec": {
   "display_name": "Python 3.9.12 ('base')",
   "language": "python",
   "name": "python3"
  },
  "language_info": {
   "codemirror_mode": {
    "name": "ipython",
    "version": 3
   },
   "file_extension": ".py",
   "mimetype": "text/x-python",
   "name": "python",
   "nbconvert_exporter": "python",
   "pygments_lexer": "ipython3",
   "version": "3.9.12"
  },
  "papermill": {
   "default_parameters": {},
   "duration": 17.325189,
   "end_time": "2022-08-26T08:17:47.231993",
   "environment_variables": {},
   "exception": null,
   "input_path": "__notebook__.ipynb",
   "output_path": "__notebook__.ipynb",
   "parameters": {},
   "start_time": "2022-08-26T08:17:29.906804",
   "version": "2.3.4"
  },
  "vscode": {
   "interpreter": {
    "hash": "ad2bdc8ecc057115af97d19610ffacc2b4e99fae6737bb82f5d7fb13d2f2c186"
   }
  }
 },
 "nbformat": 4,
 "nbformat_minor": 5
}
